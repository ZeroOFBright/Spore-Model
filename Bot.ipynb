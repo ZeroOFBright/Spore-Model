{
  "nbformat": 4,
  "nbformat_minor": 0,
  "metadata": {
    "colab": {
      "name": "Bot.ipynb",
      "provenance": [],
      "collapsed_sections": [
        "wI6oWmyYxwZt",
        "6xCJAoFExcDX",
        "Z-o03pS6xIPL",
        "5qSFLSWdw-jH"
      ],
      "authorship_tag": "ABX9TyPFoFOIkBq4QGJgrcYf4WEi",
      "include_colab_link": true
    },
    "kernelspec": {
      "name": "python3",
      "display_name": "Python 3"
    }
  },
  "cells": [
    {
      "cell_type": "markdown",
      "metadata": {
        "id": "view-in-github",
        "colab_type": "text"
      },
      "source": [
        "<a href=\"https://colab.research.google.com/github/ZeroOFBright/Spore-Model/blob/main/Bot.ipynb\" target=\"_parent\"><img src=\"https://colab.research.google.com/assets/colab-badge.svg\" alt=\"Open In Colab\"/></a>"
      ]
    },
    {
      "cell_type": "markdown",
      "metadata": {
        "id": "wI6oWmyYxwZt"
      },
      "source": [
        "# จัดการเรื่องที่อยู่ไฟล์\n",
        "\n"
      ]
    },
    {
      "cell_type": "code",
      "metadata": {
        "id": "xvA2SGEaoH12",
        "colab": {
          "base_uri": "https://localhost:8080/"
        },
        "outputId": "075112be-1884-4097-9e5e-ea740f13a140"
      },
      "source": [
        "from google.colab import drive\n",
        "drive.mount('/content/drive/')"
      ],
      "execution_count": 1,
      "outputs": [
        {
          "output_type": "stream",
          "text": [
            "Drive already mounted at /content/drive/; to attempt to forcibly remount, call drive.mount(\"/content/drive/\", force_remount=True).\n"
          ],
          "name": "stdout"
        }
      ]
    },
    {
      "cell_type": "code",
      "metadata": {
        "id": "SqYn58zdoIm1",
        "colab": {
          "base_uri": "https://localhost:8080/"
        },
        "outputId": "d81acf4a-264c-4a3c-d24e-149bd685f6e4"
      },
      "source": [
        "%cd /content/drive/My\\ Drive/bot\n",
        "!pwd"
      ],
      "execution_count": 2,
      "outputs": [
        {
          "output_type": "stream",
          "text": [
            "/content/drive/My Drive/bot\n",
            "/content/drive/My Drive/bot\n"
          ],
          "name": "stdout"
        }
      ]
    },
    {
      "cell_type": "code",
      "metadata": {
        "id": "JQdBvlS6oeBJ",
        "colab": {
          "base_uri": "https://localhost:8080/"
        },
        "outputId": "791f4d02-5bd4-4630-966b-caab2bff81f3"
      },
      "source": [
        "!ls"
      ],
      "execution_count": 3,
      "outputs": [
        {
          "output_type": "stream",
          "text": [
            "DIgits_seg_mrcnn\t      maskrcnn_config20200917T1219\n",
            "input\t\t\t      maskrcnn_config20210204T0821\n",
            "Mask_RCNN\t\t      maskrcnn_config20210204T0826\n",
            "mask_rcnn_01.h5\t\t      maskrcnn_config20210204T0833\n",
            "maskrcnn_config20200501T1031  maskrcnn_config20210204T0840\n",
            "maskrcnn_config20200501T1048  maskrcnn_config20210304T1636\n",
            "maskrcnn_config20200907T1847  mrcnn\n",
            "maskrcnn_config20200908T1703\n"
          ],
          "name": "stdout"
        }
      ]
    },
    {
      "cell_type": "code",
      "metadata": {
        "id": "SaE2_M44ofoJ",
        "colab": {
          "base_uri": "https://localhost:8080/"
        },
        "outputId": "f6a15efc-276d-4385-ea66-ecfeb4a3b8f3"
      },
      "source": [
        "%tensorflow_version 1.x\n",
        "import tensorflow\n",
        "print(tensorflow.__version__)\n",
        "\n",
        "!pip install q keras==2.1.6"
      ],
      "execution_count": 4,
      "outputs": [
        {
          "output_type": "stream",
          "text": [
            "TensorFlow 1.x selected.\n",
            "1.15.2\n",
            "Requirement already satisfied: q in /usr/local/lib/python3.7/dist-packages (2.6)\n",
            "Requirement already satisfied: keras==2.1.6 in /usr/local/lib/python3.7/dist-packages (2.1.6)\n",
            "Requirement already satisfied: scipy>=0.14 in /usr/local/lib/python3.7/dist-packages (from keras==2.1.6) (1.4.1)\n",
            "Requirement already satisfied: pyyaml in /usr/local/lib/python3.7/dist-packages (from keras==2.1.6) (3.13)\n",
            "Requirement already satisfied: six>=1.9.0 in /usr/local/lib/python3.7/dist-packages (from keras==2.1.6) (1.15.0)\n",
            "Requirement already satisfied: numpy>=1.9.1 in /usr/local/lib/python3.7/dist-packages (from keras==2.1.6) (1.19.5)\n",
            "Requirement already satisfied: h5py in /usr/local/lib/python3.7/dist-packages (from keras==2.1.6) (2.10.0)\n"
          ],
          "name": "stdout"
        }
      ]
    },
    {
      "cell_type": "code",
      "metadata": {
        "id": "EtsyPl_2ovYQ",
        "colab": {
          "base_uri": "https://localhost:8080/"
        },
        "outputId": "874008c6-6cc7-4e51-dfb8-132e926179de"
      },
      "source": [
        "from tensorflow.python.client import device_lib\n",
        "import tensorflow as tf\n",
        "tf.test.gpu_device_name()\n",
        "device_lib.list_local_devices()"
      ],
      "execution_count": 5,
      "outputs": [
        {
          "output_type": "execute_result",
          "data": {
            "text/plain": [
              "[name: \"/device:CPU:0\"\n",
              " device_type: \"CPU\"\n",
              " memory_limit: 268435456\n",
              " locality {\n",
              " }\n",
              " incarnation: 15719899829793746018, name: \"/device:XLA_CPU:0\"\n",
              " device_type: \"XLA_CPU\"\n",
              " memory_limit: 17179869184\n",
              " locality {\n",
              " }\n",
              " incarnation: 8528908906125389627\n",
              " physical_device_desc: \"device: XLA_CPU device\"]"
            ]
          },
          "metadata": {
            "tags": []
          },
          "execution_count": 5
        }
      ]
    },
    {
      "cell_type": "markdown",
      "metadata": {
        "id": "ot6YJBI6xoko"
      },
      "source": [
        "# import model"
      ]
    },
    {
      "cell_type": "code",
      "metadata": {
        "id": "m3UfZZkfoyIg",
        "colab": {
          "base_uri": "https://localhost:8080/"
        },
        "outputId": "0331b687-727c-4689-dac2-c1bc863396f3"
      },
      "source": [
        "# import library\n",
        "import mrcnn\n",
        "from mrcnn.config import Config\n",
        "from mrcnn import model as modellib\n",
        "from mrcnn import visualize\n",
        "from mrcnn.utils import Dataset\n",
        "from mrcnn.model import MaskRCNN\n",
        "\n",
        "import numpy as np\n",
        "from numpy import zeros\n",
        "from numpy import asarray\n",
        "import colorsys\n",
        "import argparse\n",
        "import imutils\n",
        "import random\n",
        "import cv2\n",
        "import os\n",
        "import time\n",
        "from matplotlib import pyplot\n",
        "from matplotlib.patches import Rectangle\n",
        "from keras.models import load_model\n",
        "from os import listdir\n",
        "from xml.etree import ElementTree\n",
        "%matplotlib inline\n",
        "#ตั้งค่าให้ code ใช้ CUDA_VISIBLE_DEVICES ของ GPU ในการ Train ข้อมูล\n",
        "os.environ[\"CUDA_DEVICE_ORDER\"]=\"0000:01:00.0\"\n",
        "os.environ[\"CUDA_VISIBLE_DEVICES\"]=\"0\"\n"
      ],
      "execution_count": 6,
      "outputs": [
        {
          "output_type": "stream",
          "text": [
            "Using TensorFlow backend.\n"
          ],
          "name": "stderr"
        }
      ]
    },
    {
      "cell_type": "code",
      "metadata": {
        "id": "7288XKmdo0lw",
        "colab": {
          "base_uri": "https://localhost:8080/"
        },
        "outputId": "c948823d-4023-4513-8a46-12b184b7bd7a"
      },
      "source": [
        "class myMaskRCNNConfig(Config):\n",
        "    NAME = \"MaskRCNN_config\"\n",
        " \n",
        "    # set the number of GPUs to use along with the number of images\n",
        "    # per GPU\n",
        "    GPU_COUNT = 1\n",
        "    IMAGES_PER_GPU = 1\n",
        " \n",
        "    # number of classes (we would normally add +1 for the background)\n",
        "     # kangaroo + BG\n",
        "    NUM_CLASSES = 1+1\n",
        "   \n",
        "    # Number of training steps per epoch\n",
        "    STEPS_PER_EPOCH = 131\n",
        "    \n",
        "    # Learning rate\n",
        "    LEARNING_RATE=0.006\n",
        "    \n",
        "    # Skip detections with < 90% confidence\n",
        "    DETECTION_MIN_CONFIDENCE = 0.9\n",
        "    \n",
        "    # setting Max ground truth instances\n",
        "    MAX_GT_INSTANCES=10\n",
        "\n",
        "config = myMaskRCNNConfig()\n",
        "config.display()"
      ],
      "execution_count": 7,
      "outputs": [
        {
          "output_type": "stream",
          "text": [
            "\n",
            "Configurations:\n",
            "BACKBONE                       resnet101\n",
            "BACKBONE_STRIDES               [4, 8, 16, 32, 64]\n",
            "BATCH_SIZE                     1\n",
            "BBOX_STD_DEV                   [0.1 0.1 0.2 0.2]\n",
            "COMPUTE_BACKBONE_SHAPE         None\n",
            "DETECTION_MAX_INSTANCES        100\n",
            "DETECTION_MIN_CONFIDENCE       0.9\n",
            "DETECTION_NMS_THRESHOLD        0.3\n",
            "FPN_CLASSIF_FC_LAYERS_SIZE     1024\n",
            "GPU_COUNT                      1\n",
            "GRADIENT_CLIP_NORM             5.0\n",
            "IMAGES_PER_GPU                 1\n",
            "IMAGE_CHANNEL_COUNT            3\n",
            "IMAGE_MAX_DIM                  1024\n",
            "IMAGE_META_SIZE                14\n",
            "IMAGE_MIN_DIM                  800\n",
            "IMAGE_MIN_SCALE                0\n",
            "IMAGE_RESIZE_MODE              square\n",
            "IMAGE_SHAPE                    [1024 1024    3]\n",
            "LEARNING_MOMENTUM              0.9\n",
            "LEARNING_RATE                  0.006\n",
            "LOSS_WEIGHTS                   {'rpn_class_loss': 1.0, 'rpn_bbox_loss': 1.0, 'mrcnn_class_loss': 1.0, 'mrcnn_bbox_loss': 1.0, 'mrcnn_mask_loss': 1.0}\n",
            "MASK_POOL_SIZE                 14\n",
            "MASK_SHAPE                     [28, 28]\n",
            "MAX_GT_INSTANCES               10\n",
            "MEAN_PIXEL                     [123.7 116.8 103.9]\n",
            "MINI_MASK_SHAPE                (56, 56)\n",
            "NAME                           MaskRCNN_config\n",
            "NUM_CLASSES                    2\n",
            "POOL_SIZE                      7\n",
            "POST_NMS_ROIS_INFERENCE        1000\n",
            "POST_NMS_ROIS_TRAINING         2000\n",
            "PRE_NMS_LIMIT                  6000\n",
            "ROI_POSITIVE_RATIO             0.33\n",
            "RPN_ANCHOR_RATIOS              [0.5, 1, 2]\n",
            "RPN_ANCHOR_SCALES              (32, 64, 128, 256, 512)\n",
            "RPN_ANCHOR_STRIDE              1\n",
            "RPN_BBOX_STD_DEV               [0.1 0.1 0.2 0.2]\n",
            "RPN_NMS_THRESHOLD              0.7\n",
            "RPN_TRAIN_ANCHORS_PER_IMAGE    256\n",
            "STEPS_PER_EPOCH                131\n",
            "TOP_DOWN_PYRAMID_SIZE          256\n",
            "TRAIN_BN                       False\n",
            "TRAIN_ROIS_PER_IMAGE           200\n",
            "USE_MINI_MASK                  True\n",
            "USE_RPN_ROIS                   True\n",
            "VALIDATION_STEPS               50\n",
            "WEIGHT_DECAY                   0.0001\n",
            "\n",
            "\n"
          ],
          "name": "stdout"
        }
      ]
    },
    {
      "cell_type": "code",
      "metadata": {
        "id": "gJEF7l1Bo4pY"
      },
      "source": [
        "class monster_Dataset(Dataset):\n",
        "    # load the dataset definitions\n",
        "    def load_dataset(self, dataset_dir, is_train=True):\n",
        "        # Add classes. We have only one class to add.\n",
        "        self.add_class(\"dataset\", 1, \"spores\")\n",
        "\n",
        "        # define data locations for images and annotations\n",
        "        images_dir = dataset_dir + '/images/'\n",
        "        annotations_dir = dataset_dir + '/annots/'\n",
        "        \n",
        "        # Iterate through all files in the folder to \n",
        "        #add class, images and annotaions\n",
        "        for filename in listdir(images_dir):\n",
        "            \n",
        "            # extract image id\n",
        "            image_id = filename[:-4]\n",
        "            # setting image file\n",
        "            img_path = images_dir + filename\n",
        "            \n",
        "            # setting annotations file\n",
        "            ann_path = annotations_dir + image_id + '.xml'\n",
        "            # adding images and annotations to dataset\n",
        "            self.add_image('dataset', image_id=image_id, path=img_path, annotation=ann_path)\n",
        "            \n",
        "  # extract bounding boxes from an annotation file\n",
        "    def extract_boxes(self, filename):\n",
        "        # load and parse the file\n",
        "        tree = ElementTree.parse(filename)\n",
        "        # get the root of the document\n",
        "        root = tree.getroot()\n",
        "        # extract each bounding box\n",
        "        boxes = list()\n",
        "        for box in root.findall('.//bndbox'):\n",
        "            xmin = int(box.find('xmin').text)\n",
        "            ymin = int(box.find('ymin').text)\n",
        "            xmax = int(box.find('xmax').text)\n",
        "            ymax = int(box.find('ymax').text)\n",
        "            coors = [xmin, ymin, xmax, ymax]\n",
        "            boxes.append(coors)\n",
        "        # extract image dimensions\n",
        "        width = int(root.find('.//size/width').text)\n",
        "        height = int(root.find('.//size/height').text)\n",
        "        return boxes, width, height\n",
        "\n",
        "    def load_mask(self, image_id):\n",
        "        # get details of image\n",
        "        info = self.image_info[image_id]\n",
        "        \n",
        "        # define anntation  file location\n",
        "        path = info['annotation']\n",
        "        \n",
        "        # load XML\n",
        "        boxes, w, h = self.extract_boxes(path)\n",
        "       \n",
        "        # create one array for all masks, each on a different channel\n",
        "        masks = zeros([h, w, len(boxes)], dtype='uint8')\n",
        "        \n",
        "        # create masks\n",
        "        class_ids = list()\n",
        "        for i in range(len(boxes)):\n",
        "            box = boxes[i]\n",
        "            row_s, row_e = box[1], box[3]\n",
        "            col_s, col_e = box[0], box[2]\n",
        "            masks[row_s:row_e, col_s:col_e, i] = 1\n",
        "            class_ids.append(self.class_names.index('spores'))\n",
        "        return masks, asarray(class_ids, dtype='int32')\n",
        "\n",
        "    def image_reference(self, image_id):\n",
        "        info = self.image_info[image_id]\n",
        "        print(info)\n",
        "        return info['path']"
      ],
      "execution_count": 8,
      "outputs": []
    },
    {
      "cell_type": "markdown",
      "metadata": {
        "id": "l_DSKaIlxswW"
      },
      "source": [
        ""
      ]
    },
    {
      "cell_type": "markdown",
      "metadata": {
        "id": "6xCJAoFExcDX"
      },
      "source": [
        "# เตรียม datasetสำหรับtrain"
      ]
    },
    {
      "cell_type": "code",
      "metadata": {
        "id": "eByCwlEUo7F3",
        "colab": {
          "base_uri": "https://localhost:8080/"
        },
        "outputId": "2f2db7da-01ad-46b3-fa40-c7afaf0a67d6"
      },
      "source": [
        "# prepare train set\n",
        "train_set = monster_Dataset()\n",
        "train_set.load_dataset('input/train' )\n",
        "train_set.prepare()\n",
        "print('Train: %d' % len(train_set.image_ids))\n",
        "# prepare test/val set\n",
        "valid_set = monster_Dataset()\n",
        "valid_set.load_dataset('input/validation')\n",
        "valid_set.prepare()\n",
        "print('Valid: %d' % len(valid_set.image_ids))\n",
        "# prepare test/val set\n",
        "sample_test_set = monster_Dataset()\n",
        "sample_test_set.load_dataset('input/sample_test')\n",
        "sample_test_set.prepare()\n",
        "print('Test: %d' % len(sample_test_set.image_ids))"
      ],
      "execution_count": 9,
      "outputs": [
        {
          "output_type": "stream",
          "text": [
            "Train: 12\n",
            "Valid: 4\n",
            "Test: 4\n"
          ],
          "name": "stdout"
        }
      ]
    },
    {
      "cell_type": "code",
      "metadata": {
        "id": "MAk_HfTlvKxd"
      },
      "source": [
        "model_dir='./'"
      ],
      "execution_count": 10,
      "outputs": []
    },
    {
      "cell_type": "code",
      "metadata": {
        "id": "PRRSzmzYvu3h",
        "colab": {
          "base_uri": "https://localhost:8080/"
        },
        "outputId": "52f5ea2b-ae63-4131-8fa9-d0009580d1c2"
      },
      "source": [
        "print(\"Loading Mask R-CNN model...\")\n",
        "model = modellib.MaskRCNN(mode=\"training\", config=config, model_dir='./')"
      ],
      "execution_count": 11,
      "outputs": [
        {
          "output_type": "stream",
          "text": [
            "Loading Mask R-CNN model...\n",
            "WARNING:tensorflow:From /usr/local/lib/python3.7/dist-packages/keras/backend/tensorflow_backend.py:508: The name tf.placeholder is deprecated. Please use tf.compat.v1.placeholder instead.\n",
            "\n",
            "WARNING:tensorflow:From /usr/local/lib/python3.7/dist-packages/keras/backend/tensorflow_backend.py:68: The name tf.get_default_graph is deprecated. Please use tf.compat.v1.get_default_graph instead.\n",
            "\n",
            "WARNING:tensorflow:From /usr/local/lib/python3.7/dist-packages/keras/backend/tensorflow_backend.py:3837: The name tf.random_uniform is deprecated. Please use tf.random.uniform instead.\n",
            "\n",
            "WARNING:tensorflow:From /usr/local/lib/python3.7/dist-packages/keras/backend/tensorflow_backend.py:3661: The name tf.nn.max_pool is deprecated. Please use tf.nn.max_pool2d instead.\n",
            "\n",
            "WARNING:tensorflow:From /usr/local/lib/python3.7/dist-packages/keras/backend/tensorflow_backend.py:1944: The name tf.image.resize_nearest_neighbor is deprecated. Please use tf.compat.v1.image.resize_nearest_neighbor instead.\n",
            "\n",
            "WARNING:tensorflow:From /tensorflow-1.15.2/python3.7/tensorflow_core/python/ops/array_ops.py:1475: where (from tensorflow.python.ops.array_ops) is deprecated and will be removed in a future version.\n",
            "Instructions for updating:\n",
            "Use tf.where in 2.0, which has the same broadcast rule as np.where\n",
            "WARNING:tensorflow:From /content/drive/My Drive/bot/mrcnn/model.py:553: The name tf.random_shuffle is deprecated. Please use tf.random.shuffle instead.\n",
            "\n",
            "WARNING:tensorflow:From /content/drive/My Drive/bot/mrcnn/utils.py:202: The name tf.log is deprecated. Please use tf.math.log instead.\n",
            "\n",
            "WARNING:tensorflow:From /content/drive/My Drive/bot/mrcnn/model.py:600: calling crop_and_resize_v1 (from tensorflow.python.ops.image_ops_impl) with box_ind is deprecated and will be removed in a future version.\n",
            "Instructions for updating:\n",
            "box_ind is deprecated, use box_indices instead\n"
          ],
          "name": "stdout"
        }
      ]
    },
    {
      "cell_type": "code",
      "metadata": {
        "id": "p44JKu-RwjA6",
        "colab": {
          "base_uri": "https://localhost:8080/"
        },
        "outputId": "beab5e2c-741f-4884-de39-258a8aa02194"
      },
      "source": [
        "os.listdir(\"./\")"
      ],
      "execution_count": 12,
      "outputs": [
        {
          "output_type": "execute_result",
          "data": {
            "text/plain": [
              "['mrcnn',\n",
              " 'Mask_RCNN',\n",
              " 'maskrcnn_config20200501T1031',\n",
              " 'maskrcnn_config20200501T1048',\n",
              " 'input',\n",
              " 'maskrcnn_config20200907T1847',\n",
              " 'maskrcnn_config20200908T1703',\n",
              " 'maskrcnn_config20200917T1219',\n",
              " 'maskrcnn_config20210204T0821',\n",
              " 'maskrcnn_config20210204T0826',\n",
              " 'maskrcnn_config20210204T0833',\n",
              " 'maskrcnn_config20210204T0840',\n",
              " 'mask_rcnn_01.h5',\n",
              " 'maskrcnn_config20210304T1636',\n",
              " 'DIgits_seg_mrcnn']"
            ]
          },
          "metadata": {
            "tags": []
          },
          "execution_count": 12
        }
      ]
    },
    {
      "cell_type": "code",
      "metadata": {
        "id": "YtQe9J3M2aYQ"
      },
      "source": [
        "from tensorflow.python.keras.saving import hdf5_format"
      ],
      "execution_count": 13,
      "outputs": []
    },
    {
      "cell_type": "code",
      "metadata": {
        "id": "4IhdBrm2y1pb",
        "colab": {
          "base_uri": "https://localhost:8080/"
        },
        "outputId": "bf2f6874-3bf2-41de-cf38-f69fe579d40b"
      },
      "source": [
        "#load the weights for COCO\n",
        "model.load_weights('Mask_RCNN/mask_rcnn_coco.h5', \n",
        "                   by_name=True, \n",
        "                   exclude=[\"mrcnn_class_logits\", \"mrcnn_bbox_fc\",  \"mrcnn_bbox\", \"mrcnn_mask\"])"
      ],
      "execution_count": 14,
      "outputs": [
        {
          "output_type": "stream",
          "text": [
            "WARNING:tensorflow:From /usr/local/lib/python3.7/dist-packages/keras/backend/tensorflow_backend.py:168: The name tf.get_default_session is deprecated. Please use tf.compat.v1.get_default_session instead.\n",
            "\n",
            "WARNING:tensorflow:From /usr/local/lib/python3.7/dist-packages/keras/backend/tensorflow_backend.py:175: The name tf.ConfigProto is deprecated. Please use tf.compat.v1.ConfigProto instead.\n",
            "\n",
            "WARNING:tensorflow:From /usr/local/lib/python3.7/dist-packages/keras/backend/tensorflow_backend.py:180: The name tf.Session is deprecated. Please use tf.compat.v1.Session instead.\n",
            "\n",
            "WARNING:tensorflow:From /usr/local/lib/python3.7/dist-packages/keras/backend/tensorflow_backend.py:184: The name tf.global_variables is deprecated. Please use tf.compat.v1.global_variables instead.\n",
            "\n",
            "WARNING:tensorflow:From /usr/local/lib/python3.7/dist-packages/keras/backend/tensorflow_backend.py:193: The name tf.is_variable_initialized is deprecated. Please use tf.compat.v1.is_variable_initialized instead.\n",
            "\n",
            "WARNING:tensorflow:From /usr/local/lib/python3.7/dist-packages/keras/backend/tensorflow_backend.py:200: The name tf.variables_initializer is deprecated. Please use tf.compat.v1.variables_initializer instead.\n",
            "\n"
          ],
          "name": "stdout"
        }
      ]
    },
    {
      "cell_type": "code",
      "metadata": {
        "id": "4rsJzep31kcF",
        "colab": {
          "base_uri": "https://localhost:8080/"
        },
        "outputId": "119c732f-4a56-4376-c6ee-5350cbc0f75d"
      },
      "source": [
        "## train heads with higher lr to speedup the learning\n",
        "#ทำtransferlearning โดยเลือกให้trainเฉพาะlayersท้ายๆ\n",
        "model.train(train_set, valid_set,learning_rate=config.LEARNING_RATE, epochs=5, layers='heads')\n",
        "history = model.keras_model.history.history"
      ],
      "execution_count": null,
      "outputs": [
        {
          "output_type": "stream",
          "text": [
            "\n",
            "Starting at epoch 0. LR=0.006\n",
            "\n",
            "Checkpoint Path: ./maskrcnn_config20210304T1641/mask_rcnn_maskrcnn_config_{epoch:04d}.h5\n",
            "Selecting layers to train\n",
            "fpn_c5p5               (Conv2D)\n",
            "fpn_c4p4               (Conv2D)\n",
            "fpn_c3p3               (Conv2D)\n",
            "fpn_c2p2               (Conv2D)\n",
            "fpn_p5                 (Conv2D)\n",
            "fpn_p2                 (Conv2D)\n",
            "fpn_p3                 (Conv2D)\n",
            "fpn_p4                 (Conv2D)\n",
            "In model:  rpn_model\n",
            "    rpn_conv_shared        (Conv2D)\n",
            "    rpn_class_raw          (Conv2D)\n",
            "    rpn_bbox_pred          (Conv2D)\n",
            "mrcnn_mask_conv1       (TimeDistributed)\n",
            "mrcnn_mask_bn1         (TimeDistributed)\n",
            "mrcnn_mask_conv2       (TimeDistributed)\n",
            "mrcnn_mask_bn2         (TimeDistributed)\n",
            "mrcnn_class_conv1      (TimeDistributed)\n",
            "mrcnn_class_bn1        (TimeDistributed)\n",
            "mrcnn_mask_conv3       (TimeDistributed)\n",
            "mrcnn_mask_bn3         (TimeDistributed)\n",
            "mrcnn_class_conv2      (TimeDistributed)\n",
            "mrcnn_class_bn2        (TimeDistributed)\n",
            "mrcnn_mask_conv4       (TimeDistributed)\n",
            "mrcnn_mask_bn4         (TimeDistributed)\n",
            "mrcnn_bbox_fc          (TimeDistributed)\n",
            "mrcnn_mask_deconv      (TimeDistributed)\n",
            "mrcnn_class_logits     (TimeDistributed)\n",
            "mrcnn_mask             (TimeDistributed)\n",
            "WARNING:tensorflow:From /usr/local/lib/python3.7/dist-packages/keras/optimizers.py:757: The name tf.train.Optimizer is deprecated. Please use tf.compat.v1.train.Optimizer instead.\n",
            "\n"
          ],
          "name": "stdout"
        },
        {
          "output_type": "stream",
          "text": [
            "/tensorflow-1.15.2/python3.7/tensorflow_core/python/framework/indexed_slices.py:424: UserWarning: Converting sparse IndexedSlices to a dense Tensor of unknown shape. This may consume a large amount of memory.\n",
            "  \"Converting sparse IndexedSlices to a dense Tensor of unknown shape. \"\n",
            "/tensorflow-1.15.2/python3.7/tensorflow_core/python/framework/indexed_slices.py:424: UserWarning: Converting sparse IndexedSlices to a dense Tensor of unknown shape. This may consume a large amount of memory.\n",
            "  \"Converting sparse IndexedSlices to a dense Tensor of unknown shape. \"\n",
            "/tensorflow-1.15.2/python3.7/tensorflow_core/python/framework/indexed_slices.py:424: UserWarning: Converting sparse IndexedSlices to a dense Tensor of unknown shape. This may consume a large amount of memory.\n",
            "  \"Converting sparse IndexedSlices to a dense Tensor of unknown shape. \"\n"
          ],
          "name": "stderr"
        },
        {
          "output_type": "stream",
          "text": [
            "WARNING:tensorflow:From /usr/local/lib/python3.7/dist-packages/keras/backend/tensorflow_backend.py:977: The name tf.assign_add is deprecated. Please use tf.compat.v1.assign_add instead.\n",
            "\n",
            "WARNING:tensorflow:From /usr/local/lib/python3.7/dist-packages/keras/backend/tensorflow_backend.py:964: The name tf.assign is deprecated. Please use tf.compat.v1.assign instead.\n",
            "\n"
          ],
          "name": "stdout"
        },
        {
          "output_type": "stream",
          "text": [
            "/usr/local/lib/python3.7/dist-packages/keras/engine/training.py:2087: UserWarning: Using a generator with `use_multiprocessing=True` and multiple workers may duplicate your data. Please consider using the`keras.utils.Sequence class.\n",
            "  UserWarning('Using a generator with `use_multiprocessing=True`'\n"
          ],
          "name": "stderr"
        },
        {
          "output_type": "stream",
          "text": [
            "WARNING:tensorflow:From /usr/local/lib/python3.7/dist-packages/keras/callbacks.py:783: The name tf.summary.merge_all is deprecated. Please use tf.compat.v1.summary.merge_all instead.\n",
            "\n",
            "WARNING:tensorflow:From /usr/local/lib/python3.7/dist-packages/keras/callbacks.py:786: The name tf.summary.FileWriter is deprecated. Please use tf.compat.v1.summary.FileWriter instead.\n",
            "\n",
            "Epoch 1/5\n",
            " 11/131 [=>............................] - ETA: 1:46:15 - loss: 1.9939 - rpn_class_loss: 0.0381 - rpn_bbox_loss: 0.3021 - mrcnn_class_loss: 0.2449 - mrcnn_bbox_loss: 0.9357 - mrcnn_mask_loss: 0.4731"
          ],
          "name": "stdout"
        }
      ]
    },
    {
      "cell_type": "code",
      "metadata": {
        "id": "RIqs-Luq5oDG"
      },
      "source": [
        "# Save weight ที่เราtrainมาแล้ว\n",
        "model_path = 'mask_rcnn_01.h5'\n",
        "model.keras_model.save_weights('mask_rcnn_01.h5')"
      ],
      "execution_count": null,
      "outputs": []
    },
    {
      "cell_type": "code",
      "metadata": {
        "id": "mhKU5ZMtz41j"
      },
      "source": [
        "!ls"
      ],
      "execution_count": null,
      "outputs": []
    },
    {
      "cell_type": "markdown",
      "metadata": {
        "id": "Z-o03pS6xIPL"
      },
      "source": [
        "# นำmodel ที่trainมาทดสอบ"
      ]
    },
    {
      "cell_type": "code",
      "metadata": {
        "id": "xv57fJoiz8X_"
      },
      "source": [
        "from keras.preprocessing.image import load_img\n",
        "from keras.preprocessing.image import img_to_array\n",
        "\n",
        "#โหลด โมเดลที่เราพึ่งเทรนไปล่าสุด\n",
        "model_path = 'mask_rcnn_01.h5'\n",
        "model = modellib.MaskRCNN(mode=\"inference\", config=config, model_dir=model_dir)\n",
        "\n",
        "# loading the trained weights o the custom dataset\n",
        "model.load_weights(model_path, by_name=True)"
      ],
      "execution_count": null,
      "outputs": []
    },
    {
      "cell_type": "code",
      "metadata": {
        "id": "vID0iXUm0H9f"
      },
      "source": [
        "#เลือกภาพที่ 2 จากvalidation set เอามาทำนาย mask และ box ดู\n",
        "image_id = 1\n",
        "image, image_meta, gt_class_id, gt_bbox, gt_mask =    modellib.load_image_gt(valid_set, config, image_id, use_mini_mask=False)\n",
        "info = valid_set.image_info[image_id]\n",
        "print(\"image ID: {}.{} ({}) {}\".format(info[\"source\"], info[\"id\"], image_id, \n",
        "                                       valid_set.image_reference(image_id)))\n",
        "# Run object detection\n",
        "results = model.detect([image], verbose=1)\n",
        "\n",
        "# Display results\n",
        "\n",
        "r = results[0]\n",
        "visualize.display_instances(image, r['rois'], r['masks'], r['class_ids'], \n",
        "                            valid_set.class_names, r['scores'],\n",
        "                            title=\"Predictions\")"
      ],
      "execution_count": null,
      "outputs": []
    },
    {
      "cell_type": "markdown",
      "metadata": {
        "id": "5qSFLSWdw-jH"
      },
      "source": [
        "# ทดสอบเทสด้วยรูปที่เก็บไว้ใน sample test"
      ]
    },
    {
      "cell_type": "code",
      "metadata": {
        "id": "zRv6ik6_0zAu"
      },
      "source": [
        "image_id = 1\n",
        "image, image_meta, gt_class_id, gt_bbox, gt_mask =    modellib.load_image_gt(sample_test_set, config, image_id, use_mini_mask=False)\n",
        "info = sample_test_set.image_info[image_id]\n",
        "print(\"image ID: {}.{} ({}) {}\".format(info[\"source\"], info[\"id\"], image_id, \n",
        "                                       sample_test_set.image_reference(image_id)))\n",
        "# Run object detection\n",
        "results = model.detect([image], verbose=1)\n",
        "\n",
        "# Display results\n",
        "\n",
        "r = results[0]\n",
        "visualize.display_instances(image, r['rois'], r['masks'], r['class_ids'], \n",
        "                            sample_test_set.class_names, r['scores'],\n",
        "                            title=\"Predictions\")"
      ],
      "execution_count": null,
      "outputs": []
    }
  ]
}